{
 "cells": [
  {
   "cell_type": "markdown",
   "metadata": {},
   "source": [
    "# Convert HyperNeRF Data to NeRF-W Kubric Style"
   ]
  },
  {
   "cell_type": "code",
   "execution_count": 9,
   "metadata": {},
   "outputs": [
    {
     "name": "stdout",
     "output_type": "stream",
     "text": [
      "Num train: 88\n",
      "Num val: 5\n"
     ]
    },
    {
     "data": {
      "text/plain": [
       "'data/hypernerf/pick_drop/scene.json'"
      ]
     },
     "execution_count": 9,
     "metadata": {},
     "output_type": "execute_result"
    }
   ],
   "source": [
    "import numpy as np\n",
    "from pathlib import Path\n",
    "import json\n",
    "import imageio\n",
    "import shutil\n",
    "import copy\n",
    "import os\n",
    "\n",
    "target_dir = Path('data/hypernerf/')\n",
    "hypernerf_dir = Path('/rds/user/tw554/hpc-work/workspace/hypernerf/data/')\n",
    "\n",
    "scene_id = 'pick_drop'\n",
    "target_data_dir = target_dir / f'{scene_id}'\n",
    "target_rgb_dir = target_data_dir / 'images'\n",
    "target_cam_dir = target_data_dir / 'cameras'\n",
    "\n",
    "target_cam_dir.mkdir(exist_ok=True, parents=True)\n",
    "target_rgb_dir.mkdir(exist_ok=True, parents=True)\n",
    "\n",
    "root_dir = hypernerf_dir / scene_id\n",
    "img_scale = 4\n",
    "# Where to save RGB images.\n",
    "rgb_dir = root_dir / 'rgb-raw'\n",
    "colmap_dir = root_dir / 'colmap'\n",
    "camera_dir = root_dir / 'camera'\n",
    "\n",
    "\n",
    "with open(root_dir / 'dataset.json','r') as f:\n",
    "    dataset_data = json.load(f)\n",
    "with open(root_dir / 'metadata.json','r') as f:\n",
    "    time_data = json.load(f)\n",
    "\n",
    "\n",
    "with open(root_dir / 'scene.json','r') as f:\n",
    "    scene_data = json.load(f)\n",
    "\n",
    "rgb_list = [rgb_dir / f'{idx}.png' for idx in dataset_data['ids']]\n",
    "valid_rgb_ids = list(range(len(rgb_list)))\n",
    "\n",
    "cam_list = sorted(list(camera_dir.glob('*')))\n",
    "\n",
    "# write dataset split\n",
    "with open(target_data_dir / 'split.json','w') as f:\n",
    "    split = {}\n",
    "    split['train_ids'] = [rgb_list.index(rgb_dir / f'{idx}.png') for idx in dataset_data['train_ids']]\n",
    "    split['val_ids'] = sorted(list(set(range(len(valid_rgb_ids))) - set(split['train_ids'])))\n",
    "    print(f\"Num train: {len(split['train_ids'])}\\nNum val: {len(split['val_ids'])}\")\n",
    "    json.dump(split, f, indent=2)\n",
    "\n",
    "shutil.copy(root_dir / 'scene.json', str(target_data_dir))"
   ]
  },
  {
   "cell_type": "code",
   "execution_count": 6,
   "metadata": {},
   "outputs": [],
   "source": [
    "# copy all the images and masks\n",
    "    \n",
    "for rgb in rgb_list:\n",
    "    if 'freeze-test' in str(rgb):\n",
    "        shutil.copy(str(rgb), str(target_rgb_dir / f'test_{rgb.stem}.png'))\n",
    "    else:\n",
    "        shutil.copy(str(rgb), str(target_rgb_dir))\n",
    "\n",
    "for cam in cam_list:\n",
    "    if 'freeze-test' in str(cam):\n",
    "        shutil.copy(str(cam), str(target_cam_dir / f'test_{cam.stem}.json'))\n",
    "    else:\n",
    "        shutil.copy(str(cam), str(target_cam_dir))\n",
    "\n",
    "\n",
    "img = imageio.imread(str(rgb))\n",
    "image_size = [img.shape[1], img.shape[0]]\n"
   ]
  }
 ],
 "metadata": {
  "interpreter": {
   "hash": "9248da916604b64e62ced8515753713434d14007971f673aaaf66fbf61c4460b"
  },
  "kernelspec": {
   "display_name": "Python 3.8.12 ('hypernerf')",
   "language": "python",
   "name": "python3"
  },
  "language_info": {
   "codemirror_mode": {
    "name": "ipython",
    "version": 3
   },
   "file_extension": ".py",
   "mimetype": "text/x-python",
   "name": "python",
   "nbconvert_exporter": "python",
   "pygments_lexer": "ipython3",
   "version": "3.8.12"
  },
  "orig_nbformat": 4
 },
 "nbformat": 4,
 "nbformat_minor": 2
}
